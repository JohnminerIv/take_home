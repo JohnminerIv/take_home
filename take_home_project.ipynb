{
 "cells": [
  {
   "cell_type": "markdown",
   "metadata": {},
   "source": [
    "Data Science\n",
    "\n",
    "Use Pandas for data-frame cleaning, manipulation and analysis. Show the findings by choosing different types of visualization in Matplotlib and Seaborn. Use Scipy, Stats and Numpy for statistical analysis. The data-set is  Seattle Crime Data Coding Challenge."
   ]
  },
  {
   "cell_type": "code",
   "execution_count": 129,
   "metadata": {},
   "outputs": [],
   "source": [
    "import matplotlib.pyplot as plt\n",
    "import scipy.stats as sp\n",
    "import seaborn as sns\n",
    "import pandas as pd\n",
    "import numpy as np"
   ]
  },
  {
   "cell_type": "code",
   "execution_count": 130,
   "metadata": {},
   "outputs": [],
   "source": [
    "df = pd.read_csv(\"34262_921407_bundle_archive/seattle-crime-stats-by-police-precinct-2008-present.csv\")"
   ]
  },
  {
   "cell_type": "code",
   "execution_count": 131,
   "metadata": {},
   "outputs": [
    {
     "data": {
      "text/html": [
       "<div>\n",
       "<style scoped>\n",
       "    .dataframe tbody tr th:only-of-type {\n",
       "        vertical-align: middle;\n",
       "    }\n",
       "\n",
       "    .dataframe tbody tr th {\n",
       "        vertical-align: top;\n",
       "    }\n",
       "\n",
       "    .dataframe thead th {\n",
       "        text-align: right;\n",
       "    }\n",
       "</style>\n",
       "<table border=\"1\" class=\"dataframe\">\n",
       "  <thead>\n",
       "    <tr style=\"text-align: right;\">\n",
       "      <th></th>\n",
       "      <th>Police Beat</th>\n",
       "      <th>CRIME_TYPE</th>\n",
       "      <th>CRIME_DESCRIPTION</th>\n",
       "      <th>STAT_VALUE</th>\n",
       "      <th>REPORT_DATE</th>\n",
       "      <th>Sector</th>\n",
       "      <th>Precinct</th>\n",
       "      <th>Row_Value_ID</th>\n",
       "    </tr>\n",
       "  </thead>\n",
       "  <tbody>\n",
       "    <tr>\n",
       "      <th>0</th>\n",
       "      <td>R2</td>\n",
       "      <td>Rape</td>\n",
       "      <td>Rape</td>\n",
       "      <td>1</td>\n",
       "      <td>2014-04-30T00:00:00.000</td>\n",
       "      <td>R</td>\n",
       "      <td>SE</td>\n",
       "      <td>27092</td>\n",
       "    </tr>\n",
       "    <tr>\n",
       "      <th>1</th>\n",
       "      <td>K2</td>\n",
       "      <td>Assault</td>\n",
       "      <td>Assault</td>\n",
       "      <td>5</td>\n",
       "      <td>2014-04-30T00:00:00.000</td>\n",
       "      <td>K</td>\n",
       "      <td>W</td>\n",
       "      <td>26506</td>\n",
       "    </tr>\n",
       "    <tr>\n",
       "      <th>2</th>\n",
       "      <td>M2</td>\n",
       "      <td>Homicide</td>\n",
       "      <td>Homicide</td>\n",
       "      <td>1</td>\n",
       "      <td>2014-04-30T00:00:00.000</td>\n",
       "      <td>M</td>\n",
       "      <td>W</td>\n",
       "      <td>27567</td>\n",
       "    </tr>\n",
       "    <tr>\n",
       "      <th>3</th>\n",
       "      <td>C3</td>\n",
       "      <td>Robbery</td>\n",
       "      <td>Robbery</td>\n",
       "      <td>2</td>\n",
       "      <td>2014-04-30T00:00:00.000</td>\n",
       "      <td>C</td>\n",
       "      <td>E</td>\n",
       "      <td>26225</td>\n",
       "    </tr>\n",
       "    <tr>\n",
       "      <th>4</th>\n",
       "      <td>E2</td>\n",
       "      <td>Motor Vehicle Theft</td>\n",
       "      <td>Vehicle Theft is theft of a car, truck, motorc...</td>\n",
       "      <td>7</td>\n",
       "      <td>2014-04-30T00:00:00.000</td>\n",
       "      <td>E</td>\n",
       "      <td>E</td>\n",
       "      <td>26368</td>\n",
       "    </tr>\n",
       "    <tr>\n",
       "      <th>5</th>\n",
       "      <td>S3</td>\n",
       "      <td>Burglary</td>\n",
       "      <td>Burglary</td>\n",
       "      <td>11</td>\n",
       "      <td>2014-04-30T00:00:00.000</td>\n",
       "      <td>S</td>\n",
       "      <td>SE</td>\n",
       "      <td>27237</td>\n",
       "    </tr>\n",
       "    <tr>\n",
       "      <th>6</th>\n",
       "      <td>G3</td>\n",
       "      <td>Assault</td>\n",
       "      <td>Assault</td>\n",
       "      <td>1</td>\n",
       "      <td>2014-04-30T00:00:00.000</td>\n",
       "      <td>G</td>\n",
       "      <td>E</td>\n",
       "      <td>26422</td>\n",
       "    </tr>\n",
       "    <tr>\n",
       "      <th>7</th>\n",
       "      <td>R3</td>\n",
       "      <td>Homicide</td>\n",
       "      <td>Homicide</td>\n",
       "      <td>0</td>\n",
       "      <td>2014-04-30T00:00:00.000</td>\n",
       "      <td>R</td>\n",
       "      <td>SE</td>\n",
       "      <td>27119</td>\n",
       "    </tr>\n",
       "    <tr>\n",
       "      <th>8</th>\n",
       "      <td>O1</td>\n",
       "      <td>Rape</td>\n",
       "      <td>Rape</td>\n",
       "      <td>1</td>\n",
       "      <td>2014-04-30T00:00:00.000</td>\n",
       "      <td>O</td>\n",
       "      <td>SE</td>\n",
       "      <td>26588</td>\n",
       "    </tr>\n",
       "    <tr>\n",
       "      <th>9</th>\n",
       "      <td>W3</td>\n",
       "      <td>Burglary</td>\n",
       "      <td>Burglary</td>\n",
       "      <td>6</td>\n",
       "      <td>2014-04-30T00:00:00.000</td>\n",
       "      <td>W</td>\n",
       "      <td>SW</td>\n",
       "      <td>27349</td>\n",
       "    </tr>\n",
       "  </tbody>\n",
       "</table>\n",
       "</div>"
      ],
      "text/plain": [
       "  Police Beat           CRIME_TYPE  \\\n",
       "0          R2                 Rape   \n",
       "1          K2              Assault   \n",
       "2          M2             Homicide   \n",
       "3          C3              Robbery   \n",
       "4          E2  Motor Vehicle Theft   \n",
       "5          S3             Burglary   \n",
       "6          G3              Assault   \n",
       "7          R3             Homicide   \n",
       "8          O1                 Rape   \n",
       "9          W3             Burglary   \n",
       "\n",
       "                                   CRIME_DESCRIPTION  STAT_VALUE  \\\n",
       "0                                               Rape           1   \n",
       "1                                            Assault           5   \n",
       "2                                           Homicide           1   \n",
       "3                                            Robbery           2   \n",
       "4  Vehicle Theft is theft of a car, truck, motorc...           7   \n",
       "5                                           Burglary          11   \n",
       "6                                            Assault           1   \n",
       "7                                           Homicide           0   \n",
       "8                                               Rape           1   \n",
       "9                                           Burglary           6   \n",
       "\n",
       "               REPORT_DATE Sector Precinct  Row_Value_ID  \n",
       "0  2014-04-30T00:00:00.000      R       SE         27092  \n",
       "1  2014-04-30T00:00:00.000      K        W         26506  \n",
       "2  2014-04-30T00:00:00.000      M        W         27567  \n",
       "3  2014-04-30T00:00:00.000      C        E         26225  \n",
       "4  2014-04-30T00:00:00.000      E        E         26368  \n",
       "5  2014-04-30T00:00:00.000      S       SE         27237  \n",
       "6  2014-04-30T00:00:00.000      G        E         26422  \n",
       "7  2014-04-30T00:00:00.000      R       SE         27119  \n",
       "8  2014-04-30T00:00:00.000      O       SE         26588  \n",
       "9  2014-04-30T00:00:00.000      W       SW         27349  "
      ]
     },
     "execution_count": 131,
     "metadata": {},
     "output_type": "execute_result"
    }
   ],
   "source": [
    "df.head(10)"
   ]
  },
  {
   "cell_type": "markdown",
   "metadata": {},
   "source": [
    "Looking at the data we see that we have a a few things that won't be useful like Police beat, sector, row id, and description. So lets remove those."
   ]
  },
  {
   "cell_type": "code",
   "execution_count": 132,
   "metadata": {},
   "outputs": [],
   "source": [
    "df = df.drop(columns=['Police Beat', 'CRIME_DESCRIPTION', 'Sector', 'Row_Value_ID'])"
   ]
  },
  {
   "cell_type": "code",
   "execution_count": 133,
   "metadata": {},
   "outputs": [
    {
     "data": {
      "text/html": [
       "<div>\n",
       "<style scoped>\n",
       "    .dataframe tbody tr th:only-of-type {\n",
       "        vertical-align: middle;\n",
       "    }\n",
       "\n",
       "    .dataframe tbody tr th {\n",
       "        vertical-align: top;\n",
       "    }\n",
       "\n",
       "    .dataframe thead th {\n",
       "        text-align: right;\n",
       "    }\n",
       "</style>\n",
       "<table border=\"1\" class=\"dataframe\">\n",
       "  <thead>\n",
       "    <tr style=\"text-align: right;\">\n",
       "      <th></th>\n",
       "      <th>CRIME_TYPE</th>\n",
       "      <th>STAT_VALUE</th>\n",
       "      <th>REPORT_DATE</th>\n",
       "      <th>Precinct</th>\n",
       "    </tr>\n",
       "  </thead>\n",
       "  <tbody>\n",
       "    <tr>\n",
       "      <th>0</th>\n",
       "      <td>Rape</td>\n",
       "      <td>1</td>\n",
       "      <td>2014-04-30T00:00:00.000</td>\n",
       "      <td>SE</td>\n",
       "    </tr>\n",
       "    <tr>\n",
       "      <th>1</th>\n",
       "      <td>Assault</td>\n",
       "      <td>5</td>\n",
       "      <td>2014-04-30T00:00:00.000</td>\n",
       "      <td>W</td>\n",
       "    </tr>\n",
       "    <tr>\n",
       "      <th>2</th>\n",
       "      <td>Homicide</td>\n",
       "      <td>1</td>\n",
       "      <td>2014-04-30T00:00:00.000</td>\n",
       "      <td>W</td>\n",
       "    </tr>\n",
       "    <tr>\n",
       "      <th>3</th>\n",
       "      <td>Robbery</td>\n",
       "      <td>2</td>\n",
       "      <td>2014-04-30T00:00:00.000</td>\n",
       "      <td>E</td>\n",
       "    </tr>\n",
       "    <tr>\n",
       "      <th>4</th>\n",
       "      <td>Motor Vehicle Theft</td>\n",
       "      <td>7</td>\n",
       "      <td>2014-04-30T00:00:00.000</td>\n",
       "      <td>E</td>\n",
       "    </tr>\n",
       "    <tr>\n",
       "      <th>...</th>\n",
       "      <td>...</td>\n",
       "      <td>...</td>\n",
       "      <td>...</td>\n",
       "      <td>...</td>\n",
       "    </tr>\n",
       "    <tr>\n",
       "      <th>27120</th>\n",
       "      <td>Homicide</td>\n",
       "      <td>0</td>\n",
       "      <td>2008-01-01T00:00:00.000</td>\n",
       "      <td>N</td>\n",
       "    </tr>\n",
       "    <tr>\n",
       "      <th>27121</th>\n",
       "      <td>Burglary</td>\n",
       "      <td>15</td>\n",
       "      <td>2008-01-01T00:00:00.000</td>\n",
       "      <td>N</td>\n",
       "    </tr>\n",
       "    <tr>\n",
       "      <th>27122</th>\n",
       "      <td>Motor Vehicle Theft</td>\n",
       "      <td>4</td>\n",
       "      <td>2008-01-01T00:00:00.000</td>\n",
       "      <td>N</td>\n",
       "    </tr>\n",
       "    <tr>\n",
       "      <th>27123</th>\n",
       "      <td>Larceny-Theft</td>\n",
       "      <td>35</td>\n",
       "      <td>2008-01-01T00:00:00.000</td>\n",
       "      <td>N</td>\n",
       "    </tr>\n",
       "    <tr>\n",
       "      <th>27124</th>\n",
       "      <td>Robbery</td>\n",
       "      <td>5</td>\n",
       "      <td>2008-01-01T00:00:00.000</td>\n",
       "      <td>N</td>\n",
       "    </tr>\n",
       "  </tbody>\n",
       "</table>\n",
       "<p>27125 rows × 4 columns</p>\n",
       "</div>"
      ],
      "text/plain": [
       "                CRIME_TYPE  STAT_VALUE              REPORT_DATE Precinct\n",
       "0                     Rape           1  2014-04-30T00:00:00.000       SE\n",
       "1                  Assault           5  2014-04-30T00:00:00.000        W\n",
       "2                 Homicide           1  2014-04-30T00:00:00.000        W\n",
       "3                  Robbery           2  2014-04-30T00:00:00.000        E\n",
       "4      Motor Vehicle Theft           7  2014-04-30T00:00:00.000        E\n",
       "...                    ...         ...                      ...      ...\n",
       "27120             Homicide           0  2008-01-01T00:00:00.000        N\n",
       "27121             Burglary          15  2008-01-01T00:00:00.000        N\n",
       "27122  Motor Vehicle Theft           4  2008-01-01T00:00:00.000        N\n",
       "27123        Larceny-Theft          35  2008-01-01T00:00:00.000        N\n",
       "27124              Robbery           5  2008-01-01T00:00:00.000        N\n",
       "\n",
       "[27125 rows x 4 columns]"
      ]
     },
     "execution_count": 133,
     "metadata": {},
     "output_type": "execute_result"
    }
   ],
   "source": [
    "df"
   ]
  },
  {
   "cell_type": "markdown",
   "metadata": {},
   "source": [
    "Lets drop any nan values as well"
   ]
  },
  {
   "cell_type": "code",
   "execution_count": 134,
   "metadata": {},
   "outputs": [],
   "source": [
    "df = df.dropna()"
   ]
  },
  {
   "cell_type": "markdown",
   "metadata": {},
   "source": [
    "And explore the data a bit."
   ]
  },
  {
   "cell_type": "code",
   "execution_count": 135,
   "metadata": {},
   "outputs": [
    {
     "name": "stdout",
     "output_type": "stream",
     "text": [
      "-3 137\n"
     ]
    }
   ],
   "source": [
    "print(min(df['STAT_VALUE']), max(df['STAT_VALUE']))"
   ]
  },
  {
   "cell_type": "code",
   "execution_count": 136,
   "metadata": {},
   "outputs": [
    {
     "data": {
      "text/html": [
       "<div>\n",
       "<style scoped>\n",
       "    .dataframe tbody tr th:only-of-type {\n",
       "        vertical-align: middle;\n",
       "    }\n",
       "\n",
       "    .dataframe tbody tr th {\n",
       "        vertical-align: top;\n",
       "    }\n",
       "\n",
       "    .dataframe thead th {\n",
       "        text-align: right;\n",
       "    }\n",
       "</style>\n",
       "<table border=\"1\" class=\"dataframe\">\n",
       "  <thead>\n",
       "    <tr style=\"text-align: right;\">\n",
       "      <th></th>\n",
       "      <th>CRIME_TYPE</th>\n",
       "      <th>STAT_VALUE</th>\n",
       "      <th>REPORT_DATE</th>\n",
       "      <th>Precinct</th>\n",
       "    </tr>\n",
       "  </thead>\n",
       "  <tbody>\n",
       "    <tr>\n",
       "      <th>2191</th>\n",
       "      <td>Rape</td>\n",
       "      <td>-1</td>\n",
       "      <td>2013-10-01T00:00:00.000</td>\n",
       "      <td>N</td>\n",
       "    </tr>\n",
       "    <tr>\n",
       "      <th>2351</th>\n",
       "      <td>Rape</td>\n",
       "      <td>-1</td>\n",
       "      <td>2013-10-01T00:00:00.000</td>\n",
       "      <td>E</td>\n",
       "    </tr>\n",
       "    <tr>\n",
       "      <th>2393</th>\n",
       "      <td>Rape</td>\n",
       "      <td>-1</td>\n",
       "      <td>2013-10-01T00:00:00.000</td>\n",
       "      <td>E</td>\n",
       "    </tr>\n",
       "    <tr>\n",
       "      <th>2541</th>\n",
       "      <td>Rape</td>\n",
       "      <td>-1</td>\n",
       "      <td>2013-09-01T00:00:00.000</td>\n",
       "      <td>SW</td>\n",
       "    </tr>\n",
       "    <tr>\n",
       "      <th>2898</th>\n",
       "      <td>Assault</td>\n",
       "      <td>-1</td>\n",
       "      <td>2013-08-01T00:00:00.000</td>\n",
       "      <td>E</td>\n",
       "    </tr>\n",
       "  </tbody>\n",
       "</table>\n",
       "</div>"
      ],
      "text/plain": [
       "     CRIME_TYPE  STAT_VALUE              REPORT_DATE Precinct\n",
       "2191       Rape          -1  2013-10-01T00:00:00.000        N\n",
       "2351       Rape          -1  2013-10-01T00:00:00.000        E\n",
       "2393       Rape          -1  2013-10-01T00:00:00.000        E\n",
       "2541       Rape          -1  2013-09-01T00:00:00.000       SW\n",
       "2898    Assault          -1  2013-08-01T00:00:00.000        E"
      ]
     },
     "execution_count": 136,
     "metadata": {},
     "output_type": "execute_result"
    }
   ],
   "source": [
    "df[df['STAT_VALUE'] <= -1].head()"
   ]
  },
  {
   "cell_type": "markdown",
   "metadata": {},
   "source": [
    "Since stat values are the amount of reported crimes a negative value does not make much sense. LET'S REMOVE THEM!"
   ]
  },
  {
   "cell_type": "code",
   "execution_count": 137,
   "metadata": {},
   "outputs": [],
   "source": [
    "df = df[df['STAT_VALUE'] >= 1]"
   ]
  },
  {
   "cell_type": "markdown",
   "metadata": {},
   "source": [
    "We want to see data that shows when a crime was reported, so I removed the data that has 0 or less crimes reported. Lets look at the types of crimes reported"
   ]
  },
  {
   "cell_type": "code",
   "execution_count": 138,
   "metadata": {},
   "outputs": [
    {
     "name": "stdout",
     "output_type": "stream",
     "text": [
      "['Rape' 'Assault' 'Homicide' 'Robbery' 'Motor Vehicle Theft' 'Burglary'\n",
      " 'Larceny-Theft']\n"
     ]
    }
   ],
   "source": [
    "print(df['CRIME_TYPE'].unique())"
   ]
  },
  {
   "cell_type": "markdown",
   "metadata": {},
   "source": [
    "How about the total amount of each crime reported?"
   ]
  },
  {
   "cell_type": "code",
   "execution_count": 140,
   "metadata": {},
   "outputs": [
    {
     "data": {
      "text/plain": [
       "<matplotlib.axes._subplots.AxesSubplot at 0x1313b4f50>"
      ]
     },
     "execution_count": 140,
     "metadata": {},
     "output_type": "execute_result"
    },
    {
     "data": {
      "image/png": "[encoded data removed]",
      "text/plain": [
       "<Figure size 432x288 with 1 Axes>"
      ]
     },
     "metadata": {
      "needs_background": "light"
     },
     "output_type": "display_data"
    }
   ],
   "source": [
    "sns.barplot(x=df['CRIME_TYPE'].unique(), y=[df[df['CRIME_TYPE'] == c_type]['STAT_VALUE'].sum() for c_type in df['CRIME_TYPE'].unique()])\n"
   ]
  },
  {
   "cell_type": "markdown",
   "metadata": {},
   "source": [
    "It looks like larceny-theft and burgalry are the most common reported crimes"
   ]
  },
  {
   "cell_type": "markdown",
   "metadata": {},
   "source": [
    "Lets see how many times each crime is typically reported"
   ]
  },
  {
   "cell_type": "code",
   "execution_count": 141,
   "metadata": {},
   "outputs": [
    {
     "data": {
      "image/png": "[encoded data removed]",
      "text/plain": [
       "<Figure size 432x288 with 2 Axes>"
      ]
     },
     "metadata": {
      "needs_background": "light"
     },
     "output_type": "display_data"
    }
   ],
   "source": [
    "sns.heatmap(pd.crosstab(df['CRIME_TYPE'], df[(df['STAT_VALUE'] <= 50) & (df['STAT_VALUE'] >= 1)]['STAT_VALUE']))\n",
    "plt.show()"
   ]
  },
  {
   "cell_type": "markdown",
   "metadata": {},
   "source": [
    "We can see that larceny-theft and burgalry have larger distributions than the others witch seem to be consistantly reported a limited amount of times."
   ]
  },
  {
   "cell_type": "code",
   "execution_count": 142,
   "metadata": {},
   "outputs": [
    {
     "name": "stdout",
     "output_type": "stream",
     "text": [
      "['2014-04-30T00:00:00.000' '2014-03-30T00:00:00.000'\n",
      " '2014-02-28T00:00:00.000' '2014-01-30T00:00:00.000'\n",
      " '2013-12-01T00:00:00.000' '2013-11-01T00:00:00.000'\n",
      " '2013-10-01T00:00:00.000' '2013-09-01T00:00:00.000'\n",
      " '2013-08-01T00:00:00.000' '2013-07-01T00:00:00.000'\n",
      " '2013-06-01T00:00:00.000' '2013-05-01T00:00:00.000'\n",
      " '2013-04-01T00:00:00.000' '2013-03-01T00:00:00.000'\n",
      " '2013-02-01T00:00:00.000' '2013-01-01T00:00:00.000'\n",
      " '2012-12-01T00:00:00.000' '2012-11-01T00:00:00.000'\n",
      " '2012-10-01T00:00:00.000' '2012-09-01T00:00:00.000'\n",
      " '2012-08-01T00:00:00.000' '2012-07-01T00:00:00.000'\n",
      " '2012-06-01T00:00:00.000' '2012-05-01T00:00:00.000'\n",
      " '2012-04-01T00:00:00.000' '2012-03-01T00:00:00.000'\n",
      " '2012-02-01T00:00:00.000' '2012-01-01T00:00:00.000'\n",
      " '2011-12-01T00:00:00.000' '2011-11-01T00:00:00.000'\n",
      " '2011-10-01T00:00:00.000' '2011-09-01T00:00:00.000'\n",
      " '2011-08-01T00:00:00.000' '2011-07-01T00:00:00.000'\n",
      " '2011-06-01T00:00:00.000' '2011-05-01T00:00:00.000'\n",
      " '2011-04-01T00:00:00.000' '2011-03-01T00:00:00.000'\n",
      " '2011-02-01T00:00:00.000' '2011-01-01T00:00:00.000'\n",
      " '2010-12-01T00:00:00.000' '2010-11-01T00:00:00.000'\n",
      " '2010-10-01T00:00:00.000' '2010-09-01T00:00:00.000'\n",
      " '2010-08-01T00:00:00.000' '2010-07-01T00:00:00.000'\n",
      " '2010-06-01T00:00:00.000' '2010-05-01T00:00:00.000'\n",
      " '2010-04-01T00:00:00.000' '2010-03-01T00:00:00.000'\n",
      " '2010-02-01T00:00:00.000' '2010-01-01T00:00:00.000'\n",
      " '2009-12-01T00:00:00.000' '2009-11-01T00:00:00.000'\n",
      " '2009-10-01T00:00:00.000' '2009-09-01T00:00:00.000'\n",
      " '2009-08-01T00:00:00.000' '2009-07-01T00:00:00.000'\n",
      " '2009-06-01T00:00:00.000' '2009-05-01T00:00:00.000'\n",
      " '2009-04-01T00:00:00.000' '2009-03-01T00:00:00.000'\n",
      " '2009-02-01T00:00:00.000' '2009-01-01T00:00:00.000'\n",
      " '2008-12-01T00:00:00.000' '2008-11-01T00:00:00.000'\n",
      " '2008-10-01T00:00:00.000' '2008-09-01T00:00:00.000'\n",
      " '2008-08-01T00:00:00.000' '2008-07-01T00:00:00.000'\n",
      " '2008-06-01T00:00:00.000' '2008-05-01T00:00:00.000'\n",
      " '2008-04-01T00:00:00.000' '2008-03-01T00:00:00.000'\n",
      " '2008-02-01T00:00:00.000' '2008-01-01T00:00:00.000']\n"
     ]
    }
   ],
   "source": [
    "print(df['REPORT_DATE'].unique())"
   ]
  },
  {
   "cell_type": "markdown",
   "metadata": {},
   "source": [
    "It looks like its kept track of on a monthly basis, lets see if there are any time based trends"
   ]
  },
  {
   "cell_type": "code",
   "execution_count": 143,
   "metadata": {},
   "outputs": [
    {
     "data": {
      "text/plain": [
       "<matplotlib.axes._subplots.AxesSubplot at 0x131421290>"
      ]
     },
     "execution_count": 143,
     "metadata": {},
     "output_type": "execute_result"
    },
    {
     "data": {
      "image/png": "[encoded data removed]",
      "text/plain": [
       "<Figure size 432x288 with 2 Axes>"
      ]
     },
     "metadata": {
      "needs_background": "light"
     },
     "output_type": "display_data"
    }
   ],
   "source": [
    "sns.heatmap(pd.crosstab(df['REPORT_DATE'], df[(df['STAT_VALUE'] <= 20) & (df['STAT_VALUE'] >= 1)]['STAT_VALUE']))"
   ]
  },
  {
   "cell_type": "code",
   "execution_count": 153,
   "metadata": {},
   "outputs": [
    {
     "data": {
      "text/plain": [
       "<matplotlib.axes._subplots.AxesSubplot at 0x1313b4390>"
      ]
     },
     "execution_count": 153,
     "metadata": {},
     "output_type": "execute_result"
    },
    {
     "data": {
      "image/png": "[encoded data removed]",
      "text/plain": [
       "<Figure size 432x288 with 2 Axes>"
      ]
     },
     "metadata": {
      "needs_background": "light"
     },
     "output_type": "display_data"
    }
   ],
   "source": [
    "dates_dict = {}\n",
    "for date in reversed(df['REPORT_DATE'].unique()):\n",
    "    dates_numbers = []\n",
    "    for crime in df['CRIME_TYPE'].unique():\n",
    "        dates_numbers.append(df[(df['REPORT_DATE'] == date) & (df['CRIME_TYPE'] == crime)]['STAT_VALUE'].sum())\n",
    "    dates_dict[date] = dates_numbers\n",
    "new_df = pd.DataFrame(dates_dict, df['CRIME_TYPE'].unique())\n",
    "new_df = new_df.rename_axis('DATE', axis='columns')\n",
    "new_df = new_df.rename_axis('CRIME TYPE')\n",
    "sns.heatmap(new_df)"
   ]
  },
  {
   "cell_type": "markdown",
   "metadata": {},
   "source": [
    "To me it doesn't look like there are any time based trends, it looks like it pretty consistent. Lets see by precinct."
   ]
  },
  {
   "cell_type": "code",
   "execution_count": 154,
   "metadata": {},
   "outputs": [
    {
     "data": {
      "text/plain": [
       "<matplotlib.axes._subplots.AxesSubplot at 0x13220da50>"
      ]
     },
     "execution_count": 154,
     "metadata": {},
     "output_type": "execute_result"
    },
    {
     "data": {
      "image/png": "[encoded data removed]",
      "text/plain": [
       "<Figure size 432x288 with 2 Axes>"
      ]
     },
     "metadata": {
      "needs_background": "light"
     },
     "output_type": "display_data"
    }
   ],
   "source": [
    "loc_dict = {}\n",
    "for loc in df['Precinct'].unique():\n",
    "    loc_numbers = []\n",
    "    for crime in df['CRIME_TYPE'].unique():\n",
    "        loc_numbers.append(df[(df['Precinct'] == loc) & (df['CRIME_TYPE'] == crime)]['STAT_VALUE'].sum())\n",
    "    loc_dict[loc] = loc_numbers\n",
    "new_df = pd.DataFrame(loc_dict, df['CRIME_TYPE'].unique())\n",
    "new_df = new_df.rename_axis('Precinct', axis='columns')\n",
    "new_df = new_df.rename_axis('CRIME TYPE')\n",
    "sns.heatmap(new_df)"
   ]
  },
  {
   "cell_type": "markdown",
   "metadata": {},
   "source": [
    "It looks like there are the majority of crimes being larceny-theft happening in the W and N precincts. Lets see if there are any time based trends in total crime in each precinct."
   ]
  },
  {
   "cell_type": "code",
   "execution_count": 155,
   "metadata": {},
   "outputs": [
    {
     "data": {
      "text/plain": [
       "<matplotlib.axes._subplots.AxesSubplot at 0x13236cc10>"
      ]
     },
     "execution_count": 155,
     "metadata": {},
     "output_type": "execute_result"
    },
    {
     "data": {
      "image/png": "[encoded data removed]",
      "text/plain": [
       "<Figure size 432x288 with 2 Axes>"
      ]
     },
     "metadata": {
      "needs_background": "light"
     },
     "output_type": "display_data"
    }
   ],
   "source": [
    "dates_dict = {}\n",
    "for date in reversed(df['REPORT_DATE'].unique()):\n",
    "    dates_numbers = []\n",
    "    for pre in df['Precinct'].unique():\n",
    "        dates_numbers.append(df[(df['REPORT_DATE'] == date) & (df['Precinct'] == pre)]['STAT_VALUE'].sum())\n",
    "    dates_dict[date] = dates_numbers\n",
    "new_df = pd.DataFrame(dates_dict, df['Precinct'].unique())\n",
    "new_df = new_df.rename_axis('Precinct', axis='columns')\n",
    "new_df = new_df.rename_axis('CRIME TYPE')\n",
    "sns.heatmap(new_df)"
   ]
  },
  {
   "cell_type": "markdown",
   "metadata": {},
   "source": [
    "It looks like there are bands where crime increased in one or more precincts during certain times. I don't know if that correlates to certain events but its possible..."
   ]
  },
  {
   "cell_type": "code",
   "execution_count": null,
   "metadata": {},
   "outputs": [],
   "source": []
  }
 ],
 "metadata": {
  "kernelspec": {
   "display_name": "Python 3",
   "language": "python",
   "name": "python3"
  },
  "language_info": {
   "codemirror_mode": {
    "name": "ipython",
    "version": 3
   },
   "file_extension": ".py",
   "mimetype": "text/x-python",
   "name": "python",
   "nbconvert_exporter": "python",
   "pygments_lexer": "ipython3",
   "version": "3.7.6"
  }
 },
 "nbformat": 4,
 "nbformat_minor": 2
}
